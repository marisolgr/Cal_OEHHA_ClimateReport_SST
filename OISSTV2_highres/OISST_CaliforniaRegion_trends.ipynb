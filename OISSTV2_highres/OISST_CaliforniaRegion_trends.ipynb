{
 "cells": [
  {
   "cell_type": "code",
   "execution_count": null,
   "metadata": {},
   "outputs": [],
   "source": [
    "# Analysis of trends for CalOEHA report\n",
    "## 1/4 deg OISST anoomalies data from \n",
    "## https://psl.noaa.gov/cgi-bin/db_search/DBSearch.pl?Dataset=NOAA+High-resolution+Blended+Analysis&Variable=Sea+Surface+Temperature+Anomalies&group=0&submit=Search\n",
    "## Downloaded Jan 25, 2022"
   ]
  },
  {
   "cell_type": "code",
   "execution_count": null,
   "metadata": {},
   "outputs": [],
   "source": [
    "import pandas as pd\n",
    "import numpy as np\n",
    "import xarray as xr\n",
    "import matplotlib.pyplot as plt\n",
    "import cartopy\n",
    "import cartopy.crs as ccrs\n",
    "from cartopy.mpl.ticker import LongitudeFormatter, LatitudeFormatter\n",
    "import cartopy.feature as cfeature\n",
    "from scipy import stats\n",
    "import warnings \n",
    "warnings.simplefilter('ignore') "
   ]
  },
  {
   "cell_type": "code",
   "execution_count": null,
   "metadata": {},
   "outputs": [],
   "source": [
    "ds = xr.open_mfdataset('./OISST*.nc')\n",
    "ds"
   ]
  },
  {
   "cell_type": "code",
   "execution_count": null,
   "metadata": {},
   "outputs": [],
   "source": [
    "# annual means\n",
    "dsa=ds.resample(time='12MS').mean()\n",
    "dsa"
   ]
  },
  {
   "cell_type": "code",
   "execution_count": null,
   "metadata": {},
   "outputs": [],
   "source": [
    "# trends\n",
    "lats=dsa.lat.values\n",
    "lons=dsa.lon.values\n",
    "x=np.arange(len(dsa.time.data))\n",
    "trs = np.full((len(lats),len(lons)),np.nan)\n",
    "trs2 = np.full((len(lats),len(lons)),np.nan)\n",
    "\n",
    "for j, jns in enumerate(lats):\n",
    "    print(str(jns)+'N')\n",
    "    for i,ins in enumerate(lons):\n",
    "        tmp = dsa.anom[:,j,i]\n",
    "        if ~np.isnan(tmp[0]):\n",
    "            y=tmp.data\n",
    "            slope, intercept, r_value, p_value, std_err = stats.linregress(x, y)\n",
    "\n",
    "            slope2 = slope*10 # change per decade\n",
    "            trs[j,i]=slope2\n",
    "            if p_value<=0.05:\n",
    "                trs2[j,i]=1\n",
    "                \n",
    "dtr = xr.DataArray(trs, coords=[lats, lons], dims=['lat','lon'])\n",
    "dtrs2 = xr.DataArray(trs2, coords=[lats, lons], dims=['lat','lon'])"
   ]
  },
  {
   "cell_type": "code",
   "execution_count": null,
   "metadata": {},
   "outputs": [],
   "source": [
    "#  trends map\n",
    "fig=plt.figure(figsize=(7,6),dpi=200)\n",
    "ax = plt.axes(projection=ccrs.PlateCarree())\n",
    "ax.coastlines(resolution='50m',linewidth=1,color='black',alpha=0.8,zorder=3)\n",
    "ax.add_feature(cfeature.STATES, zorder=0)\n",
    "ax.set_extent([232,244,31,43],crs=ccrs.PlateCarree())\n",
    "ax.set_xticks([-128,-124,-120,-116], crs=ccrs.PlateCarree())\n",
    "ax.set_yticks([32, 34, 36, 38, 40, 42], crs=ccrs.PlateCarree())\n",
    "#ax.add_feature(cartopy.feature.LAND, zorder=2, edgecolor='black', color='lightgrey', alpha=0.8)\n",
    "\n",
    "dtr.plot(alpha=0.9, cmap='bwr',zorder=1)\n",
    "\n",
    "xs, ys = np.meshgrid(ds.lon, ds.lat)\n",
    "im = plt.scatter(xs,ys,8,dtrs2, marker='x',alpha=0.7, cmap='gray') # p<0.05\n",
    "\n",
    "ax.xaxis.set_major_formatter(LongitudeFormatter(zero_direction_label=True))\n",
    "ax.yaxis.set_major_formatter(LatitudeFormatter())\n",
    "plt.ylabel('Latitude')\n",
    "plt.xlabel('Longitude')\n",
    "plt.grid(True, zorder=0,alpha=0.5)\n",
    "plt.title('')\n",
    "ax.set_aspect(1.5)\n",
    "plt.tight_layout()\n",
    "plt.savefig('trends_1982-2021_p95.png')\n",
    "plt.show()"
   ]
  },
  {
   "cell_type": "code",
   "execution_count": null,
   "metadata": {},
   "outputs": [],
   "source": []
  }
 ],
 "metadata": {
  "kernelspec": {
   "display_name": "Python 3 (ipykernel)",
   "language": "python",
   "name": "python3"
  },
  "language_info": {
   "codemirror_mode": {
    "name": "ipython",
    "version": 3
   },
   "file_extension": ".py",
   "mimetype": "text/x-python",
   "name": "python",
   "nbconvert_exporter": "python",
   "pygments_lexer": "ipython3",
   "version": "3.7.6"
  }
 },
 "nbformat": 4,
 "nbformat_minor": 4
}
