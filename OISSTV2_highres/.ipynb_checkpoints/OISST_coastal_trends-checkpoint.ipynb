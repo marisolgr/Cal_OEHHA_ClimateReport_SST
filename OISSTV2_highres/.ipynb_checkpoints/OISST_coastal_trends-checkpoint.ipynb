{
 "cells": [
  {
   "cell_type": "code",
   "execution_count": null,
   "metadata": {},
   "outputs": [],
   "source": [
    "# for Cal OEHHA Climate report\n",
    "# OISST Trends\n",
    "# data acquired from https://psl.noaa.gov/cgi-bin/db_search/DBSearch.pl?Dataset=NOAA+High-resolution+Blended+Analysis&Variable=Sea+Surface+Temperature+Anomalies&group=0&submit=Search\n",
    "# daily data, downloaded in batches."
   ]
  },
  {
   "cell_type": "code",
   "execution_count": null,
   "metadata": {},
   "outputs": [],
   "source": [
    "import matplotlib as plt\n",
    "import numpy as np\n",
    "import pandas as pd\n",
    "import xarray as xr\n",
    "import matplotlib.pyplot as plt\n",
    "import scipy.stats as stat\n",
    "from sklearn.preprocessing import PolynomialFeatures\n",
    "from statsmodels.sandbox.regression.predstd import wls_prediction_std\n",
    "import statsmodels.api as sm\n",
    "import matplotlib.pyplot as plt\n",
    "import cartopy.crs as ccrs\n",
    "from cartopy.mpl.ticker import LongitudeFormatter, LatitudeFormatter\n",
    "import cartopy.feature as cfeature\n",
    "\n",
    "import warnings\n",
    "warnings.simplefilter('ignore') #filter some warning messages"
   ]
  },
  {
   "cell_type": "code",
   "execution_count": null,
   "metadata": {},
   "outputs": [],
   "source": [
    "ds = xr.open_dataset('./coastal_annual_OISST_1982-2021.nc')\n",
    "ds.close()\n",
    "ds = ds.where((ds.Lat>=32.5)&(ds.Lat<=42),drop=True)\n",
    "ds"
   ]
  },
  {
   "cell_type": "code",
   "execution_count": null,
   "metadata": {},
   "outputs": [],
   "source": [
    "def calculate_trend(x,y):\n",
    "    # first degree polynomial\n",
    "    polf = PolynomialFeatures(1)\n",
    "    a = ~np.isnan(y)\n",
    "    y2=y[a]\n",
    "    x2=x[a]\n",
    "    y2 = y2.reshape(-1, 1)\n",
    "    x2 = x2.reshape(-1, 1)\n",
    "\n",
    "    # calculate years\n",
    "    xp = polf.fit_transform(x2)\n",
    "    mods2 = sm.OLS(y2,xp).fit()\n",
    "    trend = mods2.params[1]*10\n",
    "    p_tr = mods2.pvalues[1]\n",
    "\n",
    "    return trend, p_tr, x2[0][0], x2[-1][0]"
   ]
  },
  {
   "cell_type": "code",
   "execution_count": null,
   "metadata": {},
   "outputs": [],
   "source": [
    "SST_tr = np.full((len(ds.Lat)),np.nan)\n",
    "tr_p = np.full((len(ds.Lat)),np.nan) \n",
    "years = np.arange(len(ds.time.values))\n",
    "sst = (ds.SST * 9/5) + 32\n",
    "for i in range(len(ds.Lat)):\n",
    "    SST_tr[i], tr_p[i], iy, fy = calculate_trend(years,sst[:,i].values)\n"
   ]
  },
  {
   "cell_type": "code",
   "execution_count": null,
   "metadata": {
    "scrolled": false
   },
   "outputs": [],
   "source": [
    "ssp_lats = [32+52/60,36+37.3/60,41+03.3/60] # La Jolla, Pacific G, Trinidad\n",
    "ssp_trs = [0.49,0.03,0.06]\n",
    "ssp_p = [True, False, False]\n",
    "ssp_lab = ['La Jolla','Pacific Grove','Trinidad Bay']\n",
    "\n",
    "plt.figure(figsize=(3.5,5), dpi=200)\n",
    "plt.plot(SST_tr, ds.Lat.values, 'o-', c='tab:blue', markeredgecolor='k', markersize=10, lw=3, zorder=3)\n",
    "a=tr_p<=0.05\n",
    "plt.plot(SST_tr[a], ds.Lat.values[a],'o', c='w', zorder=4, markersize=11)\n",
    "plt.plot(SST_tr, ds.Lat.values, '-', c='tab:blue', lw=3, zorder=4)\n",
    "plt.plot(SST_tr[a], ds.Lat.values[a],'r*', zorder=5, markersize=10)\n",
    "for i in range(3):\n",
    "    if ssp_p[i]:\n",
    "        plt.plot(ssp_trs[i],ssp_lats[i],'r*', markeredgecolor='r', markersize=10, zorder=6)\n",
    "        plt.text(ssp_trs[i]-0.1,ssp_lats[i]+0.5,ssp_lab[i], fontsize=12, backgroundcolor='w')\n",
    "    else:\n",
    "        plt.plot(ssp_trs[i],ssp_lats[i],'k*', zorder=6, markersize=12, markeredgecolor='w', lw=0.1)\n",
    "        plt.text(ssp_trs[i]+0.035,ssp_lats[i]-0.15,ssp_lab[i], fontsize=12)\n",
    "plt.ylim([32,42.5])\n",
    "plt.grid(zorder=1)\n",
    "plt.axvline(c='k', zorder=2)\n",
    "plt.ylabel('Latitude (°N)',fontsize=12)\n",
    "plt.xlabel('SST Trend (°F per decade)', fontsize=12)\n",
    "plt.tight_layout()\n",
    "plt.savefig('Cal_OEHHA_OISST_trends_1982_2021.png')\n",
    "plt.show()"
   ]
  },
  {
   "cell_type": "code",
   "execution_count": null,
   "metadata": {},
   "outputs": [],
   "source": []
  }
 ],
 "metadata": {
  "kernelspec": {
   "display_name": "Python 3 (ipykernel)",
   "language": "python",
   "name": "python3"
  },
  "language_info": {
   "codemirror_mode": {
    "name": "ipython",
    "version": 3
   },
   "file_extension": ".py",
   "mimetype": "text/x-python",
   "name": "python",
   "nbconvert_exporter": "python",
   "pygments_lexer": "ipython3",
   "version": "3.7.6"
  }
 },
 "nbformat": 4,
 "nbformat_minor": 4
}
